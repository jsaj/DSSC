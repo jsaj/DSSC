{
  "nbformat": 4,
  "nbformat_minor": 0,
  "metadata": {
    "colab": {
      "name": "example.ipynb",
      "provenance": [],
      "authorship_tag": "ABX9TyMuFVFUMboywf0x8ZCrdzGP",
      "include_colab_link": true
    },
    "kernelspec": {
      "name": "python3",
      "display_name": "Python 3"
    },
    "language_info": {
      "name": "python"
    }
  },
  "cells": [
    {
      "cell_type": "markdown",
      "metadata": {
        "id": "view-in-github",
        "colab_type": "text"
      },
      "source": [
        "<a href=\"https://colab.research.google.com/github/jsaj/dssc/blob/master/example.ipynb\" target=\"_parent\"><img src=\"https://colab.research.google.com/assets/colab-badge.svg\" alt=\"Open In Colab\"/></a>"
      ]
    },
    {
      "cell_type": "code",
      "metadata": {
        "id": "pFeCA3P3PDCq"
      },
      "source": [
        "!pip install deslib\n",
        "!git clone https://github.com/jsaj/dssc.git"
      ],
      "execution_count": null,
      "outputs": []
    },
    {
      "cell_type": "code",
      "metadata": {
        "id": "yisAKDakxLmN"
      },
      "source": [
        "from dssc.DSSC import DSSC\n",
        "import numpy as np\n",
        "\n",
        "# dataset examples: AEEEM, NASA, PROMISE, RELINK\n",
        "dataset = '/content/dssc/Datasets/RELINK'\n",
        "\n",
        "# create object for defect prediction \n",
        "model = DSSC(url_dataset=dataset)\n",
        "\n",
        "# calculates and optimizes results in relation to NPM and EPM\n",
        "npm, epm = model.optimization_process()\n",
        "\n",
        "print(npm, '\\n\\n', epm)\n",
        "\n",
        "print()\n",
        "\n",
        "print('F1: ', round(np.mean(npm['f1']), 3))\n",
        "print('AUC: ', round(np.mean(npm['auc']), 3))\n",
        "print('PF: ', round(np.mean(npm['pf']), 3))\n",
        "\n",
        "print()\n",
        "\n",
        "print('IFA: ', round(np.sum(epm['IFA']), 3))\n",
        "print('PII20: ', round(np.mean(epm['PII20']), 3))\n",
        "print('PII1000: ', round(np.mean(epm['PII1000']), 3))\n",
        "print('PII2000: ', round(np.mean(epm['PII2000']), 3))\n",
        "print('CE20: ', round(np.mean(epm['CE20']), 3))\n",
        "print('CE1000: ', round(np.mean(epm['CE1000']), 3))\n",
        "print('CE2000: ', round(np.mean(epm['CE2000']), 3))\n",
        "print('Popt: ', round(np.mean(epm['Popt']), 3))"
      ],
      "execution_count": null,
      "outputs": []
    }
  ]
}